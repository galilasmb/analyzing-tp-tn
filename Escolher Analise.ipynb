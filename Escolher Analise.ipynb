{
 "cells": [
  {
   "cell_type": "code",
   "execution_count": 1,
   "metadata": {},
   "outputs": [],
   "source": [
    "import pandas as pd\n",
    "import os\n",
    "import numpy as np\n",
    "import datetime\n",
    "import chardet\n",
    "import time\n",
    "from matplotlib import pyplot as plt"
   ]
  },
  {
   "cell_type": "code",
   "execution_count": 2,
   "metadata": {},
   "outputs": [],
   "source": [
    "df = pd.read_csv('results.csv', sep=',', encoding='latin-1', on_bad_lines='skip', low_memory=False)\n",
    "analysis = [\"OR Result\", \"Confluence Inter Result\", \"OA Inter Result\", \"DF Inter Result\", \"PDG Result\"]\n"
   ]
  },
  {
   "cell_type": "code",
   "execution_count": 3,
   "metadata": {},
   "outputs": [
    {
     "name": "stdout",
     "output_type": "stream",
     "text": [
      "Análise com maior quantidade de FALSE POSITIVE : OR Result = 26\n"
     ]
    }
   ],
   "source": [
    "#Análise com maior número de FALSE POSITIVE\n",
    "op = \"FALSE POSITIVE\"\n",
    "result = \"\"\n",
    "val = -1\n",
    "\n",
    "for i in analysis:\n",
    "    base = df[df[i] == op]\n",
    "    if (base[i].count() > val):\n",
    "        val = base[i].count()\n",
    "        result = i\n",
    "\n",
    "print(\"Análise com maior quantidade de\", op, \":\",result, \"=\", val)"
   ]
  },
  {
   "cell_type": "code",
   "execution_count": 4,
   "metadata": {},
   "outputs": [
    {
     "name": "stdout",
     "output_type": "stream",
     "text": [
      "Análise com maior quantidade de FALSE POSITIVE : OR Result = 26\n",
      "Análise com maior quantidade de FALSE NEGATIVE : OA Inter Result = 29\n",
      "Análise com maior quantidade de TRUE POSITIVE : OR Result = 20\n",
      "Análise com maior quantidade de TRUE NEGATIVE : OA Inter Result = 62\n"
     ]
    }
   ],
   "source": [
    "#Análise com maior resultado entre todas as opções\n",
    "options = [\"FALSE POSITIVE\", \"FALSE NEGATIVE\", \"TRUE POSITIVE\", \"TRUE NEGATIVE\"]\n",
    "for op in options:\n",
    "    result = \"\"\n",
    "    val = -1\n",
    "\n",
    "    for i in analysis:\n",
    "        base = df[df[i] == op]\n",
    "        if (not base[i].empty and base[i].count() > val):\n",
    "            val = base[i].count()\n",
    "            result = i\n",
    "\n",
    "    print(\"Análise com maior quantidade de\", op, \":\",result, \"=\", val)"
   ]
  },
  {
   "cell_type": "code",
   "execution_count": 5,
   "metadata": {},
   "outputs": [
    {
     "name": "stdout",
     "output_type": "stream",
     "text": [
      "Análise com menor quantidade de FALSE POSITIVE : OA Inter Result = 4\n",
      "Análise com menor quantidade de FALSE NEGATIVE : OR Result = 13\n",
      "Análise com menor quantidade de TRUE POSITIVE : OA Inter Result = 4\n",
      "Análise com menor quantidade de TRUE NEGATIVE : DF Inter Result = 45\n"
     ]
    }
   ],
   "source": [
    "#Análise com menor resultado entre todas as opções\n",
    "options = [\"FALSE POSITIVE\", \"FALSE NEGATIVE\", \"TRUE POSITIVE\", \"TRUE NEGATIVE\"]\n",
    "\n",
    "for op in options:\n",
    "    result = \"\"\n",
    "    val = 10000\n",
    "    for i in analysis:\n",
    "        base = df[df[i] == op]\n",
    "\n",
    "        if (not base[i].empty and base[i].count() < val):\n",
    "            val = base[i].count()\n",
    "            result = i\n",
    "\n",
    "    print(\"Análise com menor quantidade de\", op, \":\",result, \"=\", val)"
   ]
  },
  {
   "cell_type": "code",
   "execution_count": 6,
   "metadata": {},
   "outputs": [
    {
     "name": "stdout",
     "output_type": "stream",
     "text": [
      "<bound method NDFrame.head of Series([], Name: Confluence Inter, dtype: object)>\n"
     ]
    }
   ],
   "source": [
    "base = df[df['Confluence Inter'] == \"TRUE POSITIVE\"]\n",
    "print(base['Confluence Inter'].head)"
   ]
  },
  {
   "cell_type": "code",
   "execution_count": 7,
   "metadata": {},
   "outputs": [],
   "source": [
    "def compareTwoAnalysis(a1, a2, list1, list2):\n",
    "    op = [\"TRUE POSITIVE\", \"TRUE NEGATIVE\", \"FALSE POSITIVE\", \"FALSE NEGATIVE\"]\n",
    "\n",
    "    print(\"Comparando\",a1, \"com\", a2)\n",
    "    \n",
    "    TPIgual = True\n",
    "    TNIgual = True\n",
    "    for (l1, l2) in zip(list1, list2):\n",
    "        if (l1 == \"TRUE POSITIVE\" and l1 != l2):\n",
    "            TPIgual = False\n",
    "        if (l1 == \"TRUE NEGATIVE\" and l1 != l2):\n",
    "            TNIgual = False\n",
    "\n",
    "\n",
    "    if (TPIgual and TNIgual and (list2.count(\"TRUE POSITIVE\") > list1.count(\"TRUE POSITIVE\") or \n",
    "                                 list2.count(\"TRUE NEGATIVE\") > lista1.count(\"TRUE NEGATIVE\"))):\n",
    "        print(\"Melhor\", a2)\n",
    "    elif (TPIgual and TNIgual and (list2.count(\"TRUE POSITIVE\") == list1.count(\"TRUE POSITIVE\") or \n",
    "                                   list2.count(\"TRUE NEGATIVE\") == lista1.count(\"TRUE NEGATIVE\"))):\n",
    "        print(\"Ficar com a mais rápida!\")\n",
    "    else:\n",
    "        print(\"Ficar com o OU!\")\n",
    "\n",
    "    listaOR = []\n",
    "    for (l1, l2) in zip(lista1, lista2):\n",
    "        if (\"NEGATIVE\" in l1 and \"NEGATIVE\" in l2):\n",
    "            if (\"TRUE NEGATIVE\" in l1 and \"TRUE NEGATIVE\" in l2):\n",
    "                listaOR.append(\"TRUE NEGATIVE\")\n",
    "            elif (\"FALSE NEGATIVE\" in l1 and \"FALSE NEGATIVE\" in l2):\n",
    "                listaOR.append(\"FALSE NEGATIVE\")\n",
    "        else:\n",
    "            if (\"TRUE POSITIVE\" in l1 or \"TRUE POSITIVE\" in l2):\n",
    "                listaOR.append(\"TRUE POSITIVE\")\n",
    "            else:\n",
    "                listaOR.append(\"FALSE POSITIVE\")\n",
    "    \n",
    "\n",
    "    cont1 = {\"TRUE POSITIVE\":0, \"TRUE NEGATIVE\":0, \"FALSE POSITIVE\":0, \"FALSE NEGATIVE\":0}\n",
    "\n",
    "    for i in list1:\n",
    "        cont1[i] = cont1[i] + 1\n",
    "\n",
    "    cont2 = {\"TRUE POSITIVE\":0, \"TRUE NEGATIVE\":0, \"FALSE POSITIVE\":0, \"FALSE NEGATIVE\":0}\n",
    "\n",
    "    for i in list2:\n",
    "        cont2[i] = cont2[i] + 1\n",
    "\n",
    "    contOR = {\"TRUE POSITIVE\":0, \"TRUE NEGATIVE\":0, \"FALSE POSITIVE\":0, \"FALSE NEGATIVE\":0}\n",
    "\n",
    "    for i in listaOR:\n",
    "        contOR[i] = contOR[i] + 1\n",
    "\n",
    "    print(cont1)\n",
    "    print(cont2)\n",
    "    print(contOR)"
   ]
  },
  {
   "cell_type": "code",
   "execution_count": 8,
   "metadata": {},
   "outputs": [
    {
     "name": "stdout",
     "output_type": "stream",
     "text": [
      "Comparando DF Inter Result com Confluence Inter Result\n",
      "Ficar com o OU!\n",
      "{'TRUE POSITIVE': 11, 'TRUE NEGATIVE': 45, 'FALSE POSITIVE': 21, 'FALSE NEGATIVE': 22}\n",
      "{'TRUE POSITIVE': 6, 'TRUE NEGATIVE': 48, 'FALSE POSITIVE': 18, 'FALSE NEGATIVE': 27}\n",
      "{'TRUE POSITIVE': 12, 'TRUE NEGATIVE': 43, 'FALSE POSITIVE': 23, 'FALSE NEGATIVE': 21}\n"
     ]
    }
   ],
   "source": [
    "analysis = [\"OR Result\", \"Confluence Inter Result\", \"OA Inter Result\", \"DF Inter Result\", \"PDG Result\"]\n",
    "\n",
    "a1 = df[\"DF Inter Result\"]\n",
    "lista1 = []\n",
    "for i in a1:\n",
    "    if (i != \"not-found\" and \"nan\" not in str(i)):\n",
    "        lista1.append(i)\n",
    "\n",
    "a2 = df[\"Confluence Inter Result\"]\n",
    "lista2 = []\n",
    "for i in a2:\n",
    "    if (i != \"not-found\" and \"nan\" not in str(i)):\n",
    "        lista2.append(i)\n",
    "\n",
    "\n",
    "compareTwoAnalysis(\"DF Inter Result\", \"Confluence Inter Result\", lista1, lista2)"
   ]
  },
  {
   "cell_type": "code",
   "execution_count": 9,
   "metadata": {},
   "outputs": [
    {
     "name": "stdout",
     "output_type": "stream",
     "text": [
      "Comparando OR Result com Confluence Inter Result\n",
      "Ficar com o OU!\n",
      "{'TRUE POSITIVE': 20, 'TRUE NEGATIVE': 55, 'FALSE POSITIVE': 26, 'FALSE NEGATIVE': 13}\n",
      "{'TRUE POSITIVE': 6, 'TRUE NEGATIVE': 48, 'FALSE POSITIVE': 18, 'FALSE NEGATIVE': 27}\n",
      "{'TRUE POSITIVE': 26, 'TRUE NEGATIVE': 25, 'FALSE POSITIVE': 30, 'FALSE NEGATIVE': 4}\n",
      "Comparando OR Result com OA Inter Result\n",
      "Ficar com o OU!\n",
      "{'TRUE POSITIVE': 20, 'TRUE NEGATIVE': 55, 'FALSE POSITIVE': 26, 'FALSE NEGATIVE': 13}\n",
      "{'TRUE POSITIVE': 4, 'TRUE NEGATIVE': 62, 'FALSE POSITIVE': 4, 'FALSE NEGATIVE': 29}\n",
      "{'TRUE POSITIVE': 24, 'TRUE NEGATIVE': 29, 'FALSE POSITIVE': 24, 'FALSE NEGATIVE': 4}\n",
      "Comparando OR Result com DF Inter Result\n",
      "Ficar com o OU!\n",
      "{'TRUE POSITIVE': 20, 'TRUE NEGATIVE': 55, 'FALSE POSITIVE': 26, 'FALSE NEGATIVE': 13}\n",
      "{'TRUE POSITIVE': 11, 'TRUE NEGATIVE': 45, 'FALSE POSITIVE': 21, 'FALSE NEGATIVE': 22}\n",
      "{'TRUE POSITIVE': 31, 'TRUE NEGATIVE': 21, 'FALSE POSITIVE': 31, 'FALSE NEGATIVE': 2}\n",
      "Comparando OR Result com PDG Result\n",
      "Ficar com o OU!\n",
      "{'TRUE POSITIVE': 20, 'TRUE NEGATIVE': 55, 'FALSE POSITIVE': 26, 'FALSE NEGATIVE': 13}\n",
      "{'TRUE POSITIVE': 14, 'TRUE NEGATIVE': 51, 'FALSE POSITIVE': 15, 'FALSE NEGATIVE': 19}\n",
      "{'TRUE POSITIVE': 32, 'TRUE NEGATIVE': 23, 'FALSE POSITIVE': 31, 'FALSE NEGATIVE': 2}\n",
      "Comparando Confluence Inter Result com OA Inter Result\n",
      "Ficar com o OU!\n",
      "{'TRUE POSITIVE': 6, 'TRUE NEGATIVE': 48, 'FALSE POSITIVE': 18, 'FALSE NEGATIVE': 27}\n",
      "{'TRUE POSITIVE': 4, 'TRUE NEGATIVE': 62, 'FALSE POSITIVE': 4, 'FALSE NEGATIVE': 29}\n",
      "{'TRUE POSITIVE': 7, 'TRUE NEGATIVE': 47, 'FALSE POSITIVE': 19, 'FALSE NEGATIVE': 26}\n",
      "Comparando Confluence Inter Result com DF Inter Result\n",
      "Ficar com o OU!\n",
      "{'TRUE POSITIVE': 6, 'TRUE NEGATIVE': 48, 'FALSE POSITIVE': 18, 'FALSE NEGATIVE': 27}\n",
      "{'TRUE POSITIVE': 11, 'TRUE NEGATIVE': 45, 'FALSE POSITIVE': 21, 'FALSE NEGATIVE': 22}\n",
      "{'TRUE POSITIVE': 12, 'TRUE NEGATIVE': 43, 'FALSE POSITIVE': 23, 'FALSE NEGATIVE': 21}\n",
      "Comparando Confluence Inter Result com PDG Result\n",
      "Ficar com o OU!\n",
      "{'TRUE POSITIVE': 6, 'TRUE NEGATIVE': 48, 'FALSE POSITIVE': 18, 'FALSE NEGATIVE': 27}\n",
      "{'TRUE POSITIVE': 14, 'TRUE NEGATIVE': 51, 'FALSE POSITIVE': 15, 'FALSE NEGATIVE': 19}\n",
      "{'TRUE POSITIVE': 17, 'TRUE NEGATIVE': 44, 'FALSE POSITIVE': 22, 'FALSE NEGATIVE': 16}\n",
      "Comparando OA Inter Result com DF Inter Result\n",
      "Ficar com o OU!\n",
      "{'TRUE POSITIVE': 4, 'TRUE NEGATIVE': 62, 'FALSE POSITIVE': 4, 'FALSE NEGATIVE': 29}\n",
      "{'TRUE POSITIVE': 11, 'TRUE NEGATIVE': 45, 'FALSE POSITIVE': 21, 'FALSE NEGATIVE': 22}\n",
      "{'TRUE POSITIVE': 13, 'TRUE NEGATIVE': 45, 'FALSE POSITIVE': 21, 'FALSE NEGATIVE': 20}\n",
      "Comparando OA Inter Result com PDG Result\n",
      "Ficar com o OU!\n",
      "{'TRUE POSITIVE': 4, 'TRUE NEGATIVE': 62, 'FALSE POSITIVE': 4, 'FALSE NEGATIVE': 29}\n",
      "{'TRUE POSITIVE': 14, 'TRUE NEGATIVE': 51, 'FALSE POSITIVE': 15, 'FALSE NEGATIVE': 19}\n",
      "{'TRUE POSITIVE': 16, 'TRUE NEGATIVE': 50, 'FALSE POSITIVE': 16, 'FALSE NEGATIVE': 17}\n",
      "Comparando DF Inter Result com PDG Result\n",
      "Ficar com o OU!\n",
      "{'TRUE POSITIVE': 11, 'TRUE NEGATIVE': 45, 'FALSE POSITIVE': 21, 'FALSE NEGATIVE': 22}\n",
      "{'TRUE POSITIVE': 14, 'TRUE NEGATIVE': 51, 'FALSE POSITIVE': 15, 'FALSE NEGATIVE': 19}\n",
      "{'TRUE POSITIVE': 19, 'TRUE NEGATIVE': 42, 'FALSE POSITIVE': 24, 'FALSE NEGATIVE': 14}\n"
     ]
    }
   ],
   "source": [
    "#Comparando todas as análises\n",
    "\n",
    "analysis = [\"OR Result\", \"Confluence Inter Result\", \"OA Inter Result\", \"DF Inter Result\", \"PDG Result\"]\n",
    "\n",
    "for i in range(len(analysis)):\n",
    "    for j in range(i+1, len(analysis)):\n",
    "        a1 = df[analysis[i]]\n",
    "        lista1 = []\n",
    "        for a in a1:\n",
    "            if (a != \"not-found\" and \"nan\" not in str(a)):\n",
    "                lista1.append(a)\n",
    "\n",
    "        a2 = df[analysis[j]]\n",
    "        lista2 = []\n",
    "        for b in a2:\n",
    "            if (b != \"not-found\" and \"nan\" not in str(b)):\n",
    "                lista2.append(b)\n",
    "\n",
    "\n",
    "        compareTwoAnalysis(analysis[i], analysis[j], lista1, lista2)\n"
   ]
  },
  {
   "cell_type": "code",
   "execution_count": 10,
   "metadata": {},
   "outputs": [
    {
     "name": "stdout",
     "output_type": "stream",
     "text": [
      "Vamos optar pelo OU!\n"
     ]
    }
   ],
   "source": [
    "#Algoritmo\n",
    "#Se todos os TP e TN de uma análise A1 são também TP e TN de outra análise A2, e A2 tem pelo \n",
    "#menos um TP ou TN a mais que A1, o algoritmo indica que a gente deve ficar apenas com A2\n",
    "\n",
    "#Se todos os TP e TN de uma análise A1 são também TP e TN de outra análise A2, e A2 não tem \n",
    "#nenhum TP ou TN a mais que A1, o algoritmo indica que a gente deve ficar com a mais rápida entre A1 e A2\n",
    "\n",
    "#Se nem todos os TP e TN de uma análise A1 são também TP e TN de outra análise A2, e vice-versa, \n",
    "#o algoritmo sugere a gente ficar com o OR de A1 e A2\n",
    "\n",
    "op = [\"TRUE POSITIVE\", \"TRUE NEGATIVE\", \"FALSE POSITIVE\", \"FALSE NEGATIVE\"]\n",
    "\n",
    "lista1 = []\n",
    "for i in df[\"DF Inter Result\"]:\n",
    "    if (i != \"not-found\" and \"nan\" not in str(i)):\n",
    "                lista1.append(i)\n",
    "\n",
    "lista2 = []\n",
    "for i in df[\"Confluence Inter Result\"]:\n",
    "    if (i != \"not-found\" and \"nan\" not in str(i)):\n",
    "                lista2.append(i)\n",
    "\n",
    "TPIgual = True\n",
    "TNIgual = True\n",
    "for (l1, l2) in zip(lista1, lista2):\n",
    "    if (l1 == \"TRUE POSITIVE\" and l1 != l2):\n",
    "        TPIgual = False\n",
    "    if (l1 == \"TRUE NEGATIVE\" and l1 != l2):\n",
    "        TNIgual = False\n",
    "\n",
    "\n",
    "if (TPIgual and TNIgual and (lista2.count(\"TRUE POSITIVE\") > lista1.count(\"TRUE POSITIVE\") or lista2.count(\"TRUE NEGATIVE\") > lista1.count(\"TRUE NEGATIVE\"))):\n",
    "    print(\"Analise 2!\")\n",
    "elif (TPIgual and TNIgual and (lista2.count(\"TRUE POSITIVE\") == lista1.count(\"TRUE POSITIVE\") or lista2.count(\"TRUE NEGATIVE\") == lista1.count(\"TRUE NEGATIVE\"))):\n",
    "    print(\"Ficar com a mais rápida!\")\n",
    "else:\n",
    "    print(\"Vamos optar pelo OU!\")\n"
   ]
  },
  {
   "cell_type": "code",
   "execution_count": 11,
   "metadata": {},
   "outputs": [
    {
     "data": {
      "image/png": "[encoded data removed]",
      "text/plain": [
       "<Figure size 576x432 with 1 Axes>"
      ]
     },
     "metadata": {
      "needs_background": "light"
     },
     "output_type": "display_data"
    }
   ],
   "source": [
    "#Cálculo de TP e FP exclusivo para cada análise\n",
    "\n",
    "def check_exclusivo(op1, op2, op3, op4, val):\n",
    "    if (val in op1 and (val not in op2 and val not in op3 and val not in op4)):\n",
    "        return 1\n",
    "    return 0\n",
    "\n",
    "analysis = [\"OR Result\", \"Confluence Inter Result\", \"OA Inter Result\", \"DF Inter Result\", \"PDG Result\"]\n",
    "\n",
    "cf_tp, df_tp, oa_tp, pdg_tp = 0, 0, 0, 0\n",
    "\n",
    "cf_fp, df_fp, oa_fp, pdg_fp = 0, 0, 0, 0\n",
    "\n",
    "for (cf, df, oa, pdg) in zip(df[\"Confluence Inter Result\"], df[\"DF Inter Result\"], df[\"OA Inter Result\"], df[\"PDG Result\"]):\n",
    "    if (\"nan\" not in str(cf)):\n",
    "\n",
    "        cf_tp = cf_tp + check_exclusivo(cf, df, oa, pdg, \"TRUE POSITIVE\")\n",
    "        df_tp = df_tp + check_exclusivo(df, cf, oa, pdg, \"TRUE POSITIVE\")\n",
    "        oa_tp = oa_tp + check_exclusivo(oa, df, cf, pdg, \"TRUE POSITIVE\")\n",
    "        pdg_tp = pdg_tp + check_exclusivo(pdg, cf, df, oa, \"TRUE POSITIVE\")\n",
    "\n",
    "        cf_fp = cf_fp + check_exclusivo(cf, df, oa, pdg, \"FALSE POSITIVE\")\n",
    "        df_fp = df_fp + check_exclusivo(df, cf, oa, pdg, \"FALSE POSITIVE\")\n",
    "        oa_fp = oa_fp + check_exclusivo(oa, df, cf, pdg, \"FALSE POSITIVE\")\n",
    "        pdg_fp = pdg_fp + check_exclusivo(pdg, cf, df, oa, \"FALSE POSITIVE\")\n",
    "\n",
    "data = {\n",
    "    'Análise': ['CF', 'OA', 'DF', 'PDG'],\n",
    "    'TP exclusivos': [cf_tp, oa_tp, df_tp,  pdg_tp],\n",
    "    'FP exclusivos': [cf_fp, oa_fp, df_fp,  pdg_fp]\n",
    "}\n",
    "\n",
    "dframe = pd.DataFrame(data)\n",
    "dframe['Saldo (TPe-FPe)'] = dframe['TP exclusivos'] - dframe['FP exclusivos']\n",
    "\n",
    "fig, ax = plt.subplots(figsize=(8, 6))\n",
    "ax.axis('tight')\n",
    "ax.axis('off')\n",
    "\n",
    "table = ax.table(cellText=dframe.values, colLabels=dframe.columns, cellLoc='center', loc='center')\n",
    "table.auto_set_font_size(False)\n",
    "table.set_fontsize(12)\n",
    "table.scale(1.2, 1.2)\n",
    "\n",
    "plt.title(\"Tabela de Dados\")\n",
    "plt.savefig('tabela.png', bbox_inches='tight', pad_inches=0.5)\n",
    "\n"
   ]
  }
 ],
 "metadata": {
  "kernelspec": {
   "display_name": "Python 3",
   "language": "python",
   "name": "python3"
  },
  "language_info": {
   "codemirror_mode": {
    "name": "ipython",
    "version": 3
   },
   "file_extension": ".py",
   "mimetype": "text/x-python",
   "name": "python",
   "nbconvert_exporter": "python",
   "pygments_lexer": "ipython3",
   "version": "3.8.10"
  }
 },
 "nbformat": 4,
 "nbformat_minor": 4
}
