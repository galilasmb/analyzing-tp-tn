{
 "cells": [
  {
   "cell_type": "code",
   "execution_count": 11,
   "metadata": {},
   "outputs": [],
   "source": [
    "import pandas as pd\n",
    "import os\n",
    "import numpy as np\n",
    "import datetime\n",
    "import chardet\n",
    "import time\n",
    "from matplotlib import pyplot as plt\n",
    "from collections import Counter\n",
    "from itertools import combinations"
   ]
  },
  {
   "cell_type": "code",
   "execution_count": 12,
   "metadata": {},
   "outputs": [],
   "source": [
    "soot_results = pd.read_csv('soot-results.csv', sep=';', encoding='latin-1', on_bad_lines='skip', low_memory=False)\n",
    "loi = pd.read_csv('LOI.csv', sep=';', encoding='latin-1', on_bad_lines='skip', low_memory=False)"
   ]
  },
  {
   "cell_type": "code",
   "execution_count": 13,
   "metadata": {},
   "outputs": [],
   "source": [
    "def get_loi(project, class_name,  method, merge_commit):\n",
    "\n",
    "        filter_scenario = (loi['Project'] == str(project)) & (loi['Merge Commit'] == str(merge_commit)) & (loi['Class Name'] == str(class_name)) & (loi['Method or field declaration changed by the two merged branches'] == str(method))\n",
    "        value_LOI = \"\"\n",
    "\n",
    "        if filter_scenario.any():\n",
    "            value_LOI = loi.loc[filter_scenario, 'Locally Observable Interference'].values[0]\n",
    "\n",
    "        return value_LOI"
   ]
  },
  {
   "cell_type": "code",
   "execution_count": 14,
   "metadata": {},
   "outputs": [
    {
     "data": {
      "text/plain": [
       "['Confluence Intra',\n",
       " 'Confluence Inter',\n",
       " 'OA Inter',\n",
       " 'left right DFP-Intra',\n",
       " 'right left DFP-Intra',\n",
       " 'left right DFP-Inter',\n",
       " 'right left DFP-Inter',\n",
       " 'left right CD',\n",
       " 'right left CD',\n",
       " 'left right CDe',\n",
       " 'right left CDe',\n",
       " 'left right PDG',\n",
       " 'right left PDG',\n",
       " 'left right PDG-e',\n",
       " 'right left PDG-e']"
      ]
     },
     "execution_count": 14,
     "metadata": {},
     "output_type": "execute_result"
    }
   ],
   "source": [
    "info_LOI = ['project', 'class', 'method', 'merge commit']\n",
    "\n",
    "list_values = soot_results.columns.tolist()\n",
    "remove_columns = ['project', 'class', 'method', 'merge commit', 'Time']\n",
    "analysis = [coluna for coluna in list_values if coluna not in remove_columns]\n",
    "analysis\n",
    "\n"
   ]
  },
  {
   "cell_type": "code",
   "execution_count": 15,
   "metadata": {},
   "outputs": [],
   "source": [
    "left_right_analysis = list(set([x.replace(\"left right \", \"\") for x in analysis if \"left right \" in x]))\n",
    "analysis_name = list(set([x.replace(\"left right \", \"\").replace(\"right left \", \"\") for x in analysis]))\n"
   ]
  },
  {
   "cell_type": "code",
   "execution_count": 16,
   "metadata": {},
   "outputs": [],
   "source": [
    "def get_name(list_name):\n",
    "    for i in list_name:\n",
    "        if \"left right \" in i:\n",
    "            return (i.replace(\"left right \", \"\"))    \n",
    "        elif \"right left \" not in i:\n",
    "            return i\n",
    "    return \"\"\n",
    "\n",
    "def get_name_analysis(list_name):\n",
    "    names = []\n",
    "    for i in list_name:\n",
    "        if (i in left_right_analysis):\n",
    "            names.append(\"left right \"+i)\n",
    "            names.append(\"right left \"+i)\n",
    "        else:\n",
    "            names.append(i)\n",
    "    return names\n",
    "\n",
    "def get_reverse_name(lists):\n",
    "    names = []\n",
    "    for elem_list in lists:\n",
    "        aux_list = []\n",
    "        for i in elem_list:\n",
    "            if \"left right\" in i:\n",
    "                aux_list.append(i.replace(\"left right \", \"\"))\n",
    "            elif (\"right left \" not in i):\n",
    "                aux_list.append(i)\n",
    "        names.append(aux_list)\n",
    "    return names\n"
   ]
  },
  {
   "cell_type": "code",
   "execution_count": 17,
   "metadata": {},
   "outputs": [],
   "source": [
    "def calculate_matrix(columns):\n",
    "    results = []\n",
    "    for index, row in soot_results.iterrows():\n",
    "        values = [row[column] for column in columns]\n",
    "        actual_loi = get_loi(row['project'], row['class'], row['method'], row['merge commit'])\n",
    "        or_value = any(value != 'false' for value in values)\n",
    "        result = \"\"\n",
    "        # print(\"OR:\", or_value, \"LOI:\", actual_loi)\n",
    "        if or_value == True and actual_loi == 'Yes':\n",
    "            result = \"TRUE POSITIVE\"\n",
    "        elif or_value == False and actual_loi == 'No':\n",
    "            result = \"TRUE NEGATIVE\"\n",
    "        elif or_value == False and actual_loi == 'Yes':\n",
    "            result = \"FALSE NEGATIVE\"\n",
    "        elif or_value == True and actual_loi == 'No':\n",
    "            result = \"FALSE POSITIVE\"\n",
    "        if actual_loi != \"-\":\n",
    "            results.append(result)\n",
    "    return results"
   ]
  },
  {
   "cell_type": "code",
   "execution_count": 18,
   "metadata": {},
   "outputs": [],
   "source": [
    "def count_fp_fn(list_result):\n",
    "    # Criar um contador dos elementos da lista\n",
    "    element_count = Counter(list_result)\n",
    "\n",
    "    result = []\n",
    "    # Imprimir a contagem de elementos repetidos\n",
    "    for element, count in element_count.items():\n",
    "        if count > 1:\n",
    "            result.append((str(element)+\": \"+str(count)))\n",
    "    return result"
   ]
  },
  {
   "cell_type": "code",
   "execution_count": 19,
   "metadata": {},
   "outputs": [],
   "source": [
    "#testando algoritmo de OU exclusivo genérico\n",
    "\n",
    "# data_dict = {'PDG': ['FALSE POSITIVE', 'TRUE POSITIVE'],\n",
    "# 'CDe': ['FALSE POSITIVE', 'TRUE POSITIVE'],\n",
    "# 'CD': ['FALSE POSITIVE', 'TRUE POSITIVE'],\n",
    "# 'DFP-Inter': ['FALSE POSITIVE', 'TRUE POSITIVE'],\n",
    "# 'Confluence Inter': ['FALSE POSITIVE', 'FALSE POSITIVE'],\n",
    "# 'DFP-Intra': ['TRUE POSITIVE', 'TRUE POSITIVE'],\n",
    "# 'PDG-e': ['FALSE POSITIVE', 'TRUE POSITIVE'],\n",
    "# 'Confluence Intra': ['FALSE POSITIVE', 'TRUE POSITIVE'],\n",
    "# 'OA Inter': ['FALSE POSITIVE', 'TRUE POSITIVE']}\n",
    "\n",
    "def check_equals_all(val, dict, pos):\n",
    "    result = False\n",
    "    for lista in dict.values():\n",
    "        if (lista[pos] in val):\n",
    "            result = True \n",
    "    return result        \n",
    "\n",
    "\n",
    "def calculate_exclusive(data_dict, val):\n",
    "    n = len(data_dict[next(iter(data_dict))])\n",
    "    final_dict = {}\n",
    "    for actual_key, actual_item in data_dict.items():\n",
    "        final_dict[actual_key] = 0    \n",
    "        data_dict_exclude = {chave: valor for chave, valor in data_dict.items() if chave != actual_key}\n",
    "        cont = 0\n",
    "        for i in range(n):\n",
    "            all_equals_val = check_equals_all(val, data_dict_exclude, i)\n",
    "            if val in actual_item[i] and not all_equals_val:\n",
    "                cont = cont + 1\n",
    "                print(actual_key)\n",
    "        final_dict[actual_key] = cont\n",
    "    return final_dict\n",
    "        "
   ]
  },
  {
   "cell_type": "code",
   "execution_count": 31,
   "metadata": {},
   "outputs": [
    {
     "data": {
      "text/plain": [
       "['PDG', 'OA Inter', 'DFP-Inter', 'Confluence Inter']"
      ]
     },
     "execution_count": 31,
     "metadata": {},
     "output_type": "execute_result"
    }
   ],
   "source": [
    "analysis_name"
   ]
  },
  {
   "cell_type": "code",
   "execution_count": 30,
   "metadata": {},
   "outputs": [],
   "source": [
    "analysis_name = ['PDG', 'OA Inter', 'DFP-Inter', 'Confluence Inter']"
   ]
  },
  {
   "cell_type": "code",
   "execution_count": 32,
   "metadata": {},
   "outputs": [
    {
     "name": "stdout",
     "output_type": "stream",
     "text": [
      "Exclusive TP\n",
      "PDG\n",
      "PDG\n",
      "PDG\n",
      "PDG\n",
      "PDG\n",
      "PDG\n",
      "DFP-Inter\n",
      "DFP-Inter\n",
      "\n",
      "Exclusive FP\n",
      "PDG\n",
      "PDG\n",
      "PDG\n",
      "PDG\n",
      "OA Inter\n",
      "DFP-Inter\n",
      "DFP-Inter\n",
      "DFP-Inter\n",
      "Confluence Inter\n",
      "Confluence Inter\n",
      "Confluence Inter\n"
     ]
    },
    {
     "data": {
      "image/png": "[encoded data removed]",
      "text/plain": [
       "<Figure size 800x400 with 1 Axes>"
      ]
     },
     "metadata": {},
     "output_type": "display_data"
    }
   ],
   "source": [
    "#Cálculo de TP e FP exclusivo para cada análise\n",
    "analysis_exclusive = []\n",
    "list_of_analysis = [[item] for item in analysis_name]\n",
    "\n",
    "for i in list_of_analysis:\n",
    "    analysis_exclusive.append(get_name_analysis(i))\n",
    "\n",
    "data_dict = {}\n",
    "\n",
    "for i in analysis_exclusive:\n",
    "    data_dict[get_name(i)] = calculate_matrix(i) \n",
    "\n",
    "print(\"Exclusive TP\")\n",
    "res_tp = calculate_exclusive(data_dict, \"TRUE POSITIVE\")\n",
    "# print(res_tp)\n",
    "\n",
    "\n",
    "print(\"\\nExclusive FP\")\n",
    "res_fp = calculate_exclusive(data_dict, \"FALSE POSITIVE\")\n",
    "# print(res_fp)\n",
    "\n",
    "data = {\n",
    "    'Analysis': res_tp.keys(),\n",
    "    'Exclusive TP': res_tp.values(),\n",
    "    'Exclusive FP': res_fp.values()\n",
    "}\n",
    "\n",
    "dframe = pd.DataFrame(data)\n",
    "dframe['Balance (TPe-FPe)'] = dframe['Exclusive TP'] - dframe['Exclusive FP']\n",
    "\n",
    "fig, ax = plt.subplots(figsize=(8, 4))\n",
    "ax.axis('tight')\n",
    "ax.axis('off')\n",
    "\n",
    "table = ax.table(cellText=dframe.values, colLabels=dframe.columns, cellLoc='center', loc='center')\n",
    "table.auto_set_font_size(False)\n",
    "table.set_fontsize(12)\n",
    "table.scale(1.2, 1.2)\n",
    "\n",
    "plt.title(\"Exclusive analyses\", y=0.9)\n",
    "plt.savefig('exclusive_analysis.jpg', dpi=300, bbox_inches='tight', pad_inches=0.5)\n",
    "\n"
   ]
  }
 ],
 "metadata": {
  "kernelspec": {
   "display_name": "Python 3",
   "language": "python",
   "name": "python3"
  },
  "language_info": {
   "codemirror_mode": {
    "name": "ipython",
    "version": 3
   },
   "file_extension": ".py",
   "mimetype": "text/x-python",
   "name": "python",
   "nbconvert_exporter": "python",
   "pygments_lexer": "ipython3",
   "version": "3.9.6"
  }
 },
 "nbformat": 4,
 "nbformat_minor": 4
}
